{
 "cells": [
  {
   "cell_type": "markdown",
   "id": "aea9670e",
   "metadata": {},
   "source": [
    "## 데이터베이스 생성"
   ]
  },
  {
   "cell_type": "markdown",
   "id": "7df52696",
   "metadata": {},
   "source": [
    "### 테이블, 컬럼 정보 조회\n",
    "https://blog.int80.kr/74\n",
    "\n",
    "### 복수의 컬럼에 unique 제약 조건 설정\n",
    "https://www.devkuma.com/docs/sqlite/unique-%EC%A0%9C%EC%95%BD-%EC%A1%B0%EA%B1%B4/ \n",
    "\n",
    "### 기본 키 자동 증가\n",
    "https://lovedb.tistory.com/356\n"
   ]
  },
  {
   "cell_type": "code",
   "execution_count": 3,
   "id": "4c5d7c6b",
   "metadata": {},
   "outputs": [],
   "source": [
    "import sqlite3"
   ]
  },
  {
   "cell_type": "code",
   "execution_count": 2,
   "id": "2e123537",
   "metadata": {
    "scrolled": false
   },
   "outputs": [],
   "source": [
    "# db 생성\n",
    "con = sqlite3.connect('./db/news.db')\n",
    "cur = con.cursor()\n",
    "cur.execute(\"\"\"\n",
    "CREATE TABLE news (\n",
    "id integer primary key autoincrement, \n",
    "titles text, \n",
    "url text, \n",
    "type text, \n",
    "editor text, \n",
    "dates text,\n",
    "publisher text,\n",
    "UNIQUE(titles, dates)\n",
    ")\n",
    "\"\"\")\n",
    "con.commit()\n",
    "con.close()"
   ]
  },
  {
   "cell_type": "code",
   "execution_count": 4,
   "id": "f64c8dbb",
   "metadata": {},
   "outputs": [],
   "source": [
    "db_path = './db/news.db'\n",
    "\n",
    "def query(q, db_path=db_path):\n",
    "    con = sqlite3.connect(db_path)\n",
    "    cur = con.cursor()\n",
    "    \n",
    "    for i in cur.execute(q):\n",
    "        print(i)\n",
    "    \n",
    "    con.close()"
   ]
  },
  {
   "cell_type": "code",
   "execution_count": 6,
   "id": "f389fc55",
   "metadata": {},
   "outputs": [
    {
     "name": "stdout",
     "output_type": "stream",
     "text": [
      "(1, '포스코DX, ‘한진 대전 스마트 메가허브’ 물류 자동화 시스템 구축', 'https://www.klnews.co.kr/news/articleView.html?idxno=311267', '물류IT기기', '석한글 기자', '2024.02.20 13:42', 'KLN')\n",
      "(2, '위펀, 하나증권 IPO 주관사 선정…‘2025년 코스닥 상장 목표’', 'https://www.klnews.co.kr/news/articleView.html?idxno=311266', 'BIz&Info', '석한글 기자', '2024.02.20 13:22', 'KLN')\n",
      "(3, '포스코플로우, 그룹사 스마트 통합물류 시스템 ‘FLOWer’ 론칭', 'https://www.klnews.co.kr/news/articleView.html?idxno=311265', 'BIz&Info', '석한글 기자', '2024.02.20 11:16', 'KLN')\n",
      "(4, '마음 따뜻해지는 진정성 있는 물류서비스 선보인다', 'https://www.klnews.co.kr/news/articleView.html?idxno=311263', 'BIz&Info', '김재황 기자', '2024.02.20 10:02', 'KLN')\n",
      "(5, '미래 아닌 현재로 다가온 카고바이크 물류', 'https://www.klnews.co.kr/news/articleView.html?idxno=311261', 'BIz&Info', '김재황 기자', '2024.02.20 09:58', 'KLN')\n",
      "(6, '파스토, ‘수익이 달라지는 키워드’ 이커머스 전략 웨비나 개최', 'https://www.klnews.co.kr/news/articleView.html?idxno=311262', '인사동정', '신인식 기자', '2024.02.20 09:56', 'KLN')\n",
      "(7, '제이엠웨이브, 투자 유치로 북미‧동남아 등 글로벌 진출 가속화', 'https://www.klnews.co.kr/news/articleView.html?idxno=311260', '육상철도', '신인식 기자', '2024.02.20 08:00', 'KLN')\n",
      "(8, '국가철도공단, 제8대 이성해 이사장 취임', 'https://www.klnews.co.kr/news/articleView.html?idxno=311259', '육상철도', '이경성 기자', '2024.02.19 17:40', 'KLN')\n",
      "(9, 'KOMSA 군산지사, 사무실 이전', 'https://www.klnews.co.kr/news/articleView.html?idxno=311258', '해운항만', '이경성 기자', '2024.02.19 17:30', 'KLN')\n",
      "(10, '“국제대회 물류운영, 큰 경험이자 소중한 자산”', 'https://www.klnews.co.kr/news/articleView.html?idxno=311257', '인물', '이경성 기자', '2024.02.19 15:32', 'KLN')\n",
      "(11, '선진로지스틱스, ‘강원 동계청소년올림픽’ 성공 이끌다', 'https://www.klnews.co.kr/news/articleView.html?idxno=311256', 'BIz&Info', '이경성 기자', '2024.02.19 15:32', 'KLN')\n",
      "(12, '팬스타, ‘PSBX로보틱스’ 앞세워 로봇산업 뛰어든다', 'https://www.klnews.co.kr/news/articleView.html?idxno=311255', '해운항만', '이경성 기자', '2024.02.19 14:16', 'KLN')\n",
      "(13, '항만물류협회, ‘재해예방’ 보조사업 수행기관 선정', 'https://www.klnews.co.kr/news/articleView.html?idxno=311254', '해운항만', '이경성 기자', '2024.02.19 14:16', 'KLN')\n",
      "(14, 'IPA, ‘연간 건설현장 및 시설물 안전점검계획’ 수립', 'https://www.klnews.co.kr/news/articleView.html?idxno=311253', '해운항만', '이경성 기자', '2024.02.19 14:16', 'KLN')\n",
      "(15, '인천공항공사, 필리핀 니노이아키노공항 개발운영 수주', 'https://www.klnews.co.kr/news/articleView.html?idxno=311252', '항공특송포워딩', '이경성 기자', '2024.02.19 14:16', 'KLN')\n",
      "(16, '[인사] 해양수산부', 'https://www.klnews.co.kr/news/articleView.html?idxno=311251', '인사동정', '이경성 기자', '2024.02.19 14:16', 'KLN')\n",
      "(17, 'BPA․ ‘행복나누기 사업 업무협약’ 체결', 'https://www.klnews.co.kr/news/articleView.html?idxno=311250', '해운항만', '이경성 기자', '2024.02.19 14:16', 'KLN')\n",
      "(18, '에어버스, 2023년 총 매출액 654억 유로 기록', 'https://www.klnews.co.kr/news/articleView.html?idxno=311249', '항공특송포워딩', '이경성 기자', '2024.02.19 14:16', 'KLN')\n",
      "(19, '지브라 테크놀로지스, “유통업체 70% 반품 효율성 개선 압박 느껴”', 'https://www.klnews.co.kr/news/articleView.html?idxno=311248', 'BIz&Info', '석한글 기자', '2024.02.19 13:41', 'KLN')\n",
      "(20, 'CBRE, 2023년 A급 물류센터 공급 37% 증가', 'https://www.klnews.co.kr/news/articleView.html?idxno=311247', '물류거점', '신인식 기자', '2024.02.19 11:05', 'KLN')\n",
      "(21, '경기평택항만공사, 제부마리나 중대재해예방시설 구축으로 해양레저 안전 기여', 'https://www.shippingnewsnet.com/news/articleView.html?idxno=58218', '항만', '쉬핑뉴스넷', '2024.02.20 19:42', 'SNN')\n",
      "(22, 'Shell, 2040년까지 LNG 수요  600MTPA 이상으로 증가 전망', 'https://www.shippingnewsnet.com/news/articleView.html?idxno=58217', '해운', '쉬핑뉴스넷', '2024.02.20 19:30', 'SNN')\n",
      "(23, 'Sumitomo, 2024년부터 신규 수주 중단키로 결정', 'https://www.shippingnewsnet.com/news/articleView.html?idxno=58216', '조선', '쉬핑뉴스넷', '2024.02.20 19:21', 'SNN')\n",
      "(24, '전국 바닷길 교통안전지킴이 한자리에 모인다', 'https://www.shippingnewsnet.com/news/articleView.html?idxno=58215', '해운', '쉬핑뉴스넷', '2024.02.20 18:38', 'SNN')\n",
      "(25, 'KR, 온실가스 감축량 계산 방법론에 3자 검증', 'https://www.shippingnewsnet.com/news/articleView.html?idxno=58214', '해운', '쉬핑뉴스넷', '2024.02.20 18:33', 'SNN')\n",
      "(26, '여수광양항만공사, 2023년 신재생에너지 자급률 65% 달성', 'https://www.shippingnewsnet.com/news/articleView.html?idxno=58213', '항만', '쉬핑뉴스넷', '2024.02.20 18:31', 'SNN')\n",
      "(27, '해양수산부 과장급 전보 발령', 'https://www.shippingnewsnet.com/news/articleView.html?idxno=58212', '해양', '쉬핑뉴스넷', '2024.02.20 18:30', 'SNN')\n",
      "(28, '한국예선업협동조합, 2024년도 정기총회 개최', 'https://www.shippingnewsnet.com/news/articleView.html?idxno=58211', '해운', '쉬핑뉴스넷', '2024.02.20 14:53', 'SNN')\n",
      "(29, '亞 - 북미 수출항로, 1월 ‘컨’ 운송량 20% 증가...코로나 이전 대비 13% 증가로 회복 경향', 'https://www.shippingnewsnet.com/news/articleView.html?idxno=58210', '해운', '쉬핑뉴스넷', '2024.02.20 14:49', 'SNN')\n",
      "(30, 'P&I 클럽, 홍해 전쟁 특약 중단...재보험 중단으로', 'https://www.shippingnewsnet.com/news/articleView.html?idxno=58209', '해운', '쉬핑뉴스넷', '2024.02.20 11:34', 'SNN')\n",
      "(31, '인천항 국제여객터미널  1일 이용객 668명…전년 대비 40% 증가', 'https://www.shippingnewsnet.com/news/articleView.html?idxno=58208', '항만', '쉬핑뉴스넷', '2024.02.20 10:13', 'SNN')\n",
      "(32, 'Petrobras,  주요 3개 FPSO 용선 입찰 연기', 'https://www.shippingnewsnet.com/news/articleView.html?idxno=58207', '해양', '쉬핑뉴스넷', '2024.02.20 10:09', 'SNN')\n",
      "(33, '가용선박 부족으로 VLCC spot 운임 9개월래 최고가', 'https://www.shippingnewsnet.com/news/articleView.html?idxno=58206', '해운', '쉬핑뉴스넷', '2024.02.20 10:05', 'SNN')\n",
      "(34, '에너지 수송선 시장 운임 강세...VLGC 운임,  44.4% 상승한 33,053달러 기록', 'https://www.shippingnewsnet.com/news/articleView.html?idxno=58205', '해운', '쉬핑뉴스넷', '2024.02.20 09:43', 'SNN')\n",
      "(35, '제51회 선박건조금융법정책 연구회 세미나 21일 개최', 'https://www.shippingnewsnet.com/news/articleView.html?idxno=58204', '해운', '쉬핑뉴스넷', '2024.02.20 06:52', 'SNN')\n",
      "(36, '국내 조선사 대형 LNG선 건조 슬롯 시간 갈수록 희소해져...대형 RoPax 2척이 사라진 자리 MR P/C선 4척이 대체', 'https://www.shippingnewsnet.com/news/articleView.html?idxno=58203', '조선', '쉬핑뉴스넷', '2024.02.20 00:28', 'SNN')\n",
      "(37, 'WSC, 재래식 연료에 Fee 과징...MEPC에 제안, 신연료와 가격차 좁힌다', 'https://www.shippingnewsnet.com/news/articleView.html?idxno=58201', '해운', '쉬핑뉴스넷', '2024.02.19 20:54', 'SNN')\n",
      "(38, 'KOBC 주간 리포트(02월19일자)', 'https://www.shippingnewsnet.com/news/articleView.html?idxno=58200', '주간동향리포트', '쉬핑뉴스넷', '2024.02.19 18:47', 'SNN')\n",
      "(39, '한국해운물류학회와 한국해운항만학술단체협의회 제32회 해사문화상 및 2024년 해운물류경영대상 시상식 개최', 'https://www.shippingnewsnet.com/news/articleView.html?idxno=58199', '해운', '쉬핑뉴스넷', '2024.02.19 18:15', 'SNN')\n",
      "(40, \"美 국제무역위원회, 한국산 등 4개국 석도강판 반덤핑 조사에 '산업 피해 부정' 판결\", 'https://www.shippingnewsnet.com/news/articleView.html?idxno=58198', '무역', '쉬핑뉴스넷', '2024.02.19 17:02', 'SNN')\n",
      "(41, '주요 P&I 클럽, 홍해 전쟁 특약 중단...재보험 중단으로', 'https://www.shippingnewsnet.com/news/articleView.html?idxno=58219', '해운', '쉬핑뉴스넷', '2024.02.20 23:54', 'SNN')\n",
      "(42, '아마존 / 영국·이탈리아로 드론 배송 확대 ‘유럽 드론 물류시장 진출’', 'ulogistics.co.kr/test/board.php?board=all2&page=1&command=body&no=4878', '물류유통', '물류매거진 취재부', '2024/02', 'LM')\n",
      "(43, '대한상의 / 까다로운 이커머스 니즈 대응 ‘물류서비스 질적 경쟁’ 심화', 'ulogistics.co.kr/test/board.php?board=all2&page=1&command=body&no=4877', '물류유통', '물류매거진 취재부', '2024/02', 'LM')\n",
      "(44, '현대글로비스 / 전기차 사용후 배터리 전처리 기술 확보', 'ulogistics.co.kr/test/board.php?board=all2&page=1&command=body&no=4876', '보관운송', '물류매거진 취재부', '2024/02', 'LM')\n",
      "(45, '한진 / 해외거점 42곳으로 확대 ‘글로벌 사업 역량 강화’', 'ulogistics.co.kr/test/board.php?board=all2&page=1&command=body&no=4875', '보관운송', '물류매거진 취재부', '2024/02', 'LM')\n",
      "(46, 'CJ대한통운 / 박스추천시스템 ‘로이스 오팩’으로 과포장 방지', 'ulogistics.co.kr/test/board.php?board=all2&page=1&command=body&no=4874', '보관운송', '물류매거진 취재부', '2024/02', 'LM')\n",
      "(47, 'KMI / 지난해 국내 컨테이너 물동량 전년대비 3.4% 증가', 'ulogistics.co.kr/test/board.php?board=all2&page=1&command=body&no=4873', '보관운송', '물류매거진 취재부', '2024/02', 'LM')\n",
      "(48, '쿠팡 / ‘폐광촌도 로켓배송’ 물류인프라 투자로 ‘쿠세권’ 확대', 'ulogistics.co.kr/test/board.php?board=all2&page=1&command=body&no=4872', '물류유통', '물류매거진 취재부', '2024/02', 'LM')\n",
      "(49, '지브라 테크놀로지스 / 머신비전 제품군 확대·전문기업 인수합병으로 경쟁력 강화', 'ulogistics.co.kr/test/board.php?board=all2&page=1&command=body&no=4871', '기기', '물류매거진 취재부', '2024/02', 'LM')\n",
      "(50, '국토부 / 차주에 번호판 사용료 요구 ‘운송사 갑질 금지’', 'ulogistics.co.kr/test/board.php?board=all2&page=1&command=body&no=4870', '물류정책', '물류매거진 취재부', '2024/02', 'LM')\n",
      "(51, '산업부 / 대형마트 영업제한시간 온라인 배송 허용', 'ulogistics.co.kr/test/board.php?board=all2&page=1&command=body&no=4869', '물류정책', '물류매거진 취재부', '2024/02', 'LM')\n",
      "(52, '기아 / 미래 모빌리티 ‘PV7·PV1’으로 물류운송 최적화', 'ulogistics.co.kr/test/board.php?board=all2&page=1&command=body&no=4868', '기기', '물류매거진 취재부', '2024/02', 'LM')\n",
      "(53, '데마틱 아시아지역 통합시스템 마이클 브래드쇼 시니어 디렉터 / “한국시장 물류자동..', 'ulogistics.co.kr/test/board.php?board=all2&page=1&command=body&no=4867', '인터뷰', '물류매거진 취재부', '2024/02', 'LM')\n",
      "(54, '아마존 / 인간 대신하는 이족보행 로봇 ‘디짓’ 물류센터 투입', 'ulogistics.co.kr/test/board.php?board=all2&page=1&command=body&no=4866', '물류유통', '물류매거진 취재부', '2024/01', 'LM')\n",
      "(55, 'CJ대한통운 / 6,000억원 투자 미국 시카고·뉴욕 등에 물류센터 3곳 구축', 'ulogistics.co.kr/test/board.php?board=all2&page=1&command=body&no=4865', '보관운송', '물류매거진 취재부', '2024/01', 'LM')\n",
      "(56, '롯데쇼핑 / 오카도 솔루션 적용 ‘부산 고객풀필먼트센터’ 착공', 'ulogistics.co.kr/test/board.php?board=all2&page=1&command=body&no=4863', '물류유통', '물류매거진 취재부', '2024/01', 'LM')\n",
      "(57, '팬오션, 영업외 리스크 제거로 커버리지 재개', 'https://www.shippingnewsnet.com/news/articleView.html?idxno=58197', '해운', '쉬핑뉴스넷', '2024.02.19 16:55', 'SNN')\n",
      "(58, '亞 - 북미 수출항로, 1월 ‘컨’ 운송량 20% 증가...코로나 이전 대비 13% 증가로 회복 경향', 'https://www.shippingnewsnet.com/news/articleView.html?idxno=58220', '해운', '쉬핑뉴스넷', '2024.02.20 23:57', 'SNN')\n"
     ]
    }
   ],
   "source": [
    "query('select * from news')"
   ]
  },
  {
   "cell_type": "code",
   "execution_count": 16,
   "id": "94e5ceeb",
   "metadata": {},
   "outputs": [
    {
     "name": "stdout",
     "output_type": "stream",
     "text": [
      "('news',)\n",
      "('news',)\n",
      "('sqlite_sequence',)\n"
     ]
    }
   ],
   "source": [
    "q = 'select tbl_name from sqlite_master'\n",
    "query(q)"
   ]
  },
  {
   "cell_type": "code",
   "execution_count": 4,
   "id": "2769c113",
   "metadata": {},
   "outputs": [
    {
     "name": "stdout",
     "output_type": "stream",
     "text": [
      "('CREATE TABLE news (\\nid integer primary key autoincrement, \\ntitles text, \\nurl text, \\ntype text, \\neditor text, \\ndates text,\\npublisher text,\\nUNIQUE(titles, dates)\\n)',)\n",
      "(None,)\n"
     ]
    }
   ],
   "source": [
    "q = 'select sql from sqlite_master where tbl_name=\"news\"'\n",
    "query(q)"
   ]
  },
  {
   "cell_type": "code",
   "execution_count": 8,
   "id": "8afa6559",
   "metadata": {},
   "outputs": [
    {
     "data": {
      "text/plain": [
       "True"
      ]
     },
     "execution_count": 8,
     "metadata": {},
     "output_type": "execute_result"
    }
   ],
   "source": [
    "'2024.02.20 11:16' < '2024.02.20 11:17'"
   ]
  },
  {
   "cell_type": "code",
   "execution_count": null,
   "id": "d067ccbd",
   "metadata": {},
   "outputs": [],
   "source": []
  }
 ],
 "metadata": {
  "kernelspec": {
   "display_name": "Python 3 (ipykernel)",
   "language": "python",
   "name": "python3"
  },
  "language_info": {
   "codemirror_mode": {
    "name": "ipython",
    "version": 3
   },
   "file_extension": ".py",
   "mimetype": "text/x-python",
   "name": "python",
   "nbconvert_exporter": "python",
   "pygments_lexer": "ipython3",
   "version": "3.9.7"
  }
 },
 "nbformat": 4,
 "nbformat_minor": 5
}
