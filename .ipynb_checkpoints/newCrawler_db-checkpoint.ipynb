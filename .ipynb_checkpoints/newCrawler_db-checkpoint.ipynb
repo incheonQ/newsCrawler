{
 "cells": [
  {
   "cell_type": "markdown",
   "id": "aea9670e",
   "metadata": {},
   "source": [
    "## 데이터베이스 생성"
   ]
  },
  {
   "cell_type": "code",
   "execution_count": 2,
   "id": "4c5d7c6b",
   "metadata": {},
   "outputs": [],
   "source": [
    "import sqlite3"
   ]
  },
  {
   "cell_type": "code",
   "execution_count": 3,
   "id": "2e123537",
   "metadata": {
    "scrolled": false
   },
   "outputs": [],
   "source": [
    "con = sqlite3.connect('./db/news.db')\n",
    "cur = con.cursor()\n",
    "cur.execute(\"\"\"\n",
    "CREATE TABLE news (titles text, url text, type text, editor text, dates text)\n",
    "\"\"\")\n",
    "con.commit()"
   ]
  },
  {
   "cell_type": "code",
   "execution_count": null,
   "id": "71c001fd",
   "metadata": {},
   "outputs": [],
   "source": [
    "import pandas as pd"
   ]
  },
  {
   "cell_type": "code",
   "execution_count": null,
   "id": "010036fd",
   "metadata": {},
   "outputs": [],
   "source": [
    "df = pd.read_csv('./df/KLN_df.csv')"
   ]
  },
  {
   "cell_type": "code",
   "execution_count": null,
   "id": "47a4fe52",
   "metadata": {},
   "outputs": [],
   "source": [
    "df"
   ]
  },
  {
   "cell_type": "code",
   "execution_count": null,
   "id": "4d7bd9b8",
   "metadata": {},
   "outputs": [],
   "source": [
    "con = sqlite3.connect('./db/news.db')\n",
    "cur = con.cursor()\n",
    "for i in df.itertuples():\n",
    "    q = \"INSERT into news(titles, url, type, editor, dates, year, month, day) VALUES (?,?,?,?,?,?,?,?)\" \n",
    "    cur.execute(q, (i[1], i[2], i[3], i[4], i[5], i[6], i[7], i[8]))"
   ]
  },
  {
   "cell_type": "code",
   "execution_count": null,
   "id": "7b64c1a6",
   "metadata": {},
   "outputs": [],
   "source": [
    "for row in cur.execute(\"\"\"\n",
    "SELECT * from news where type=\"해운항만\"\n",
    "\"\"\"):\n",
    "    print(row)"
   ]
  },
  {
   "cell_type": "code",
   "execution_count": null,
   "id": "79671745",
   "metadata": {},
   "outputs": [],
   "source": [
    "con.close()"
   ]
  },
  {
   "cell_type": "code",
   "execution_count": null,
   "id": "a9c79892",
   "metadata": {},
   "outputs": [],
   "source": []
  }
 ],
 "metadata": {
  "kernelspec": {
   "display_name": "Python 3 (ipykernel)",
   "language": "python",
   "name": "python3"
  },
  "language_info": {
   "codemirror_mode": {
    "name": "ipython",
    "version": 3
   },
   "file_extension": ".py",
   "mimetype": "text/x-python",
   "name": "python",
   "nbconvert_exporter": "python",
   "pygments_lexer": "ipython3",
   "version": "3.9.7"
  }
 },
 "nbformat": 4,
 "nbformat_minor": 5
}
